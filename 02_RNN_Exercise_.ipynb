{
  "nbformat": 4,
  "nbformat_minor": 0,
  "metadata": {
    "kernelspec": {
      "display_name": "Python 3",
      "language": "python",
      "name": "python3"
    },
    "language_info": {
      "codemirror_mode": {
        "name": "ipython",
        "version": 3
      },
      "file_extension": ".py",
      "mimetype": "text/x-python",
      "name": "python",
      "nbconvert_exporter": "python",
      "pygments_lexer": "ipython3",
      "version": "3.7.4"
    },
    "colab": {
      "name": "02-RNN-Exercise .ipynb",
      "provenance": [],
      "collapsed_sections": [],
      "include_colab_link": true
    }
  },
  "cells": [
    {
      "cell_type": "markdown",
      "metadata": {
        "id": "view-in-github",
        "colab_type": "text"
      },
      "source": [
        "<a href=\"https://colab.research.google.com/github/AnhMcConnell/10-Applications-in-Python/blob/master/02_RNN_Exercise_.ipynb\" target=\"_parent\"><img src=\"https://colab.research.google.com/assets/colab-badge.svg\" alt=\"Open In Colab\"/></a>"
      ]
    },
    {
      "cell_type": "markdown",
      "metadata": {
        "id": "mJ-c3-O7qVti"
      },
      "source": [
        "___\n",
        "\n",
        "<a href='http://www.pieriandata.com'><img src='../Pierian_Data_Logo.png'/></a>\n",
        "___\n",
        "<center><em>Copyright Pierian Data</em></center>\n",
        "<center><em>For more information, visit us at <a href='http://www.pieriandata.com'>www.pieriandata.com</a></em></center>\n",
        "\n",
        "# RNN Exercise"
      ]
    },
    {
      "cell_type": "markdown",
      "metadata": {
        "id": "GWSfsRA4qVto"
      },
      "source": [
        "**TASK: IMPORT THE BASIC LIBRARIES YOU THINK YOU WILL USE**"
      ]
    },
    {
      "cell_type": "code",
      "metadata": {
        "id": "LDyb_YZfqVtp"
      },
      "source": [
        "import numpy as np\r\n",
        "import pandas as pd\r\n",
        "import matplotlib.pyplot as plt\r\n",
        "%matplotlib inline\r\n",
        "import seaborn as sns\r\n"
      ],
      "execution_count": 1,
      "outputs": []
    },
    {
      "cell_type": "markdown",
      "metadata": {
        "id": "6wifWhqBqVtp"
      },
      "source": [
        "## Data\n",
        "\n",
        "Info about this data set: https://fred.stlouisfed.org/series/IPN31152N\n",
        "\n",
        "\n",
        "Units:  Index 2012=100, Not Seasonally Adjusted\n",
        "\n",
        "Frequency:  Monthly\n",
        "\n",
        "The industrial production (IP) index measures the real output of all relevant establishments located in the United States, regardless of their ownership, but not those located in U.S. territories.\n",
        "\n",
        "NAICS = 31152\n",
        "\n",
        "Source Code: IP.N31152.N\n",
        "\n",
        "Suggested Citation:\n",
        "Board of Governors of the Federal Reserve System (US), Industrial Production: Nondurable Goods: Ice cream and frozen dessert [IPN31152N], retrieved from FRED, Federal Reserve Bank of St. Louis; https://fred.stlouisfed.org/series/IPN31152N, November 16, 2019.\n",
        "\n",
        "# Project Tasks\n",
        "\n",
        "**TASK: Read in the data set \"Frozen_Dessert_Production.csv\" from the Data folder. Figure out how to set the date to a datetime index columns**"
      ]
    },
    {
      "cell_type": "code",
      "metadata": {
        "colab": {
          "resources": {
            "http://localhost:8080/nbextensions/google.colab/files.js": {
              "data": "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",
              "ok": true,
              "headers": [
                [
                  "content-type",
                  "application/javascript"
                ]
              ],
              "status": 200,
              "status_text": ""
            }
          },
          "base_uri": "https://localhost:8080/",
          "height": 73
        },
        "id": "M2CV0ZUiqVtp",
        "outputId": "ba14bb2c-517e-4af8-a584-408f9c78494e"
      },
      "source": [
        "# CODE HERE\r\n",
        "from google.colab import files\r\n",
        "uploaded = files.upload()"
      ],
      "execution_count": 2,
      "outputs": [
        {
          "output_type": "display_data",
          "data": {
            "text/html": [
              "\n",
              "     <input type=\"file\" id=\"files-93a25074-fa48-4dc9-a0a8-39fe872eed69\" name=\"files[]\" multiple disabled\n",
              "        style=\"border:none\" />\n",
              "     <output id=\"result-93a25074-fa48-4dc9-a0a8-39fe872eed69\">\n",
              "      Upload widget is only available when the cell has been executed in the\n",
              "      current browser session. Please rerun this cell to enable.\n",
              "      </output>\n",
              "      <script src=\"/nbextensions/google.colab/files.js\"></script> "
            ],
            "text/plain": [
              "<IPython.core.display.HTML object>"
            ]
          },
          "metadata": {
            "tags": []
          }
        },
        {
          "output_type": "stream",
          "text": [
            "Saving Frozen_Dessert_Production.csv to Frozen_Dessert_Production (5).csv\n"
          ],
          "name": "stdout"
        }
      ]
    },
    {
      "cell_type": "code",
      "metadata": {
        "id": "IePAysH9qVtq"
      },
      "source": [
        "import io\r\n"
      ],
      "execution_count": 3,
      "outputs": []
    },
    {
      "cell_type": "code",
      "metadata": {
        "id": "5l1qaP0NrFFQ"
      },
      "source": [
        "df = pd.read_csv(io.BytesIO(uploaded['Frozen_Dessert_Production.csv']))"
      ],
      "execution_count": 4,
      "outputs": []
    },
    {
      "cell_type": "code",
      "metadata": {
        "colab": {
          "base_uri": "https://localhost:8080/",
          "height": 195
        },
        "id": "ozWlAMzUrFIs",
        "outputId": "cd11334d-161a-44cc-df15-c32a36e3175e"
      },
      "source": [
        "df.head()"
      ],
      "execution_count": 5,
      "outputs": [
        {
          "output_type": "execute_result",
          "data": {
            "text/html": [
              "<div>\n",
              "<style scoped>\n",
              "    .dataframe tbody tr th:only-of-type {\n",
              "        vertical-align: middle;\n",
              "    }\n",
              "\n",
              "    .dataframe tbody tr th {\n",
              "        vertical-align: top;\n",
              "    }\n",
              "\n",
              "    .dataframe thead th {\n",
              "        text-align: right;\n",
              "    }\n",
              "</style>\n",
              "<table border=\"1\" class=\"dataframe\">\n",
              "  <thead>\n",
              "    <tr style=\"text-align: right;\">\n",
              "      <th></th>\n",
              "      <th>DATE</th>\n",
              "      <th>IPN31152N</th>\n",
              "    </tr>\n",
              "  </thead>\n",
              "  <tbody>\n",
              "    <tr>\n",
              "      <th>0</th>\n",
              "      <td>1972-01-01</td>\n",
              "      <td>59.9622</td>\n",
              "    </tr>\n",
              "    <tr>\n",
              "      <th>1</th>\n",
              "      <td>1972-02-01</td>\n",
              "      <td>67.0605</td>\n",
              "    </tr>\n",
              "    <tr>\n",
              "      <th>2</th>\n",
              "      <td>1972-03-01</td>\n",
              "      <td>74.2350</td>\n",
              "    </tr>\n",
              "    <tr>\n",
              "      <th>3</th>\n",
              "      <td>1972-04-01</td>\n",
              "      <td>78.1120</td>\n",
              "    </tr>\n",
              "    <tr>\n",
              "      <th>4</th>\n",
              "      <td>1972-05-01</td>\n",
              "      <td>84.7636</td>\n",
              "    </tr>\n",
              "  </tbody>\n",
              "</table>\n",
              "</div>"
            ],
            "text/plain": [
              "         DATE  IPN31152N\n",
              "0  1972-01-01    59.9622\n",
              "1  1972-02-01    67.0605\n",
              "2  1972-03-01    74.2350\n",
              "3  1972-04-01    78.1120\n",
              "4  1972-05-01    84.7636"
            ]
          },
          "metadata": {
            "tags": []
          },
          "execution_count": 5
        }
      ]
    },
    {
      "cell_type": "code",
      "metadata": {
        "id": "V-hAl-q-r0OB"
      },
      "source": [
        "df = df.set_index('DATE')"
      ],
      "execution_count": 6,
      "outputs": []
    },
    {
      "cell_type": "code",
      "metadata": {
        "colab": {
          "base_uri": "https://localhost:8080/",
          "height": 136
        },
        "id": "PNXGJiUms4z5",
        "outputId": "3704ca76-afa8-4f16-be9a-581ca6dabf17"
      },
      "source": [
        "df.head(2)"
      ],
      "execution_count": 7,
      "outputs": [
        {
          "output_type": "execute_result",
          "data": {
            "text/html": [
              "<div>\n",
              "<style scoped>\n",
              "    .dataframe tbody tr th:only-of-type {\n",
              "        vertical-align: middle;\n",
              "    }\n",
              "\n",
              "    .dataframe tbody tr th {\n",
              "        vertical-align: top;\n",
              "    }\n",
              "\n",
              "    .dataframe thead th {\n",
              "        text-align: right;\n",
              "    }\n",
              "</style>\n",
              "<table border=\"1\" class=\"dataframe\">\n",
              "  <thead>\n",
              "    <tr style=\"text-align: right;\">\n",
              "      <th></th>\n",
              "      <th>IPN31152N</th>\n",
              "    </tr>\n",
              "    <tr>\n",
              "      <th>DATE</th>\n",
              "      <th></th>\n",
              "    </tr>\n",
              "  </thead>\n",
              "  <tbody>\n",
              "    <tr>\n",
              "      <th>1972-01-01</th>\n",
              "      <td>59.9622</td>\n",
              "    </tr>\n",
              "    <tr>\n",
              "      <th>1972-02-01</th>\n",
              "      <td>67.0605</td>\n",
              "    </tr>\n",
              "  </tbody>\n",
              "</table>\n",
              "</div>"
            ],
            "text/plain": [
              "            IPN31152N\n",
              "DATE                 \n",
              "1972-01-01    59.9622\n",
              "1972-02-01    67.0605"
            ]
          },
          "metadata": {
            "tags": []
          },
          "execution_count": 7
        }
      ]
    },
    {
      "cell_type": "code",
      "metadata": {
        "id": "1vma-WAaqVtq"
      },
      "source": [
        ""
      ],
      "execution_count": 7,
      "outputs": []
    },
    {
      "cell_type": "markdown",
      "metadata": {
        "id": "m91RhrIpqVtr"
      },
      "source": [
        "**Task: Change the column name to Production**"
      ]
    },
    {
      "cell_type": "code",
      "metadata": {
        "id": "haTVvK3HqVtr"
      },
      "source": [
        "#CODE HERE\r\n",
        "df.rename(columns={'IPN31152N': 'Production'}, inplace=True)"
      ],
      "execution_count": 8,
      "outputs": []
    },
    {
      "cell_type": "code",
      "metadata": {
        "colab": {
          "base_uri": "https://localhost:8080/",
          "height": 136
        },
        "id": "mp6F_ZAJqVtr",
        "outputId": "28855331-fa8e-4488-a212-56f2efe9b1a9"
      },
      "source": [
        "df.head(2)"
      ],
      "execution_count": 9,
      "outputs": [
        {
          "output_type": "execute_result",
          "data": {
            "text/html": [
              "<div>\n",
              "<style scoped>\n",
              "    .dataframe tbody tr th:only-of-type {\n",
              "        vertical-align: middle;\n",
              "    }\n",
              "\n",
              "    .dataframe tbody tr th {\n",
              "        vertical-align: top;\n",
              "    }\n",
              "\n",
              "    .dataframe thead th {\n",
              "        text-align: right;\n",
              "    }\n",
              "</style>\n",
              "<table border=\"1\" class=\"dataframe\">\n",
              "  <thead>\n",
              "    <tr style=\"text-align: right;\">\n",
              "      <th></th>\n",
              "      <th>Production</th>\n",
              "    </tr>\n",
              "    <tr>\n",
              "      <th>DATE</th>\n",
              "      <th></th>\n",
              "    </tr>\n",
              "  </thead>\n",
              "  <tbody>\n",
              "    <tr>\n",
              "      <th>1972-01-01</th>\n",
              "      <td>59.9622</td>\n",
              "    </tr>\n",
              "    <tr>\n",
              "      <th>1972-02-01</th>\n",
              "      <td>67.0605</td>\n",
              "    </tr>\n",
              "  </tbody>\n",
              "</table>\n",
              "</div>"
            ],
            "text/plain": [
              "            Production\n",
              "DATE                  \n",
              "1972-01-01     59.9622\n",
              "1972-02-01     67.0605"
            ]
          },
          "metadata": {
            "tags": []
          },
          "execution_count": 9
        }
      ]
    },
    {
      "cell_type": "code",
      "metadata": {
        "id": "VzTPceG-qVts"
      },
      "source": [
        ""
      ],
      "execution_count": 9,
      "outputs": []
    },
    {
      "cell_type": "markdown",
      "metadata": {
        "id": "hSaxxNsnqVts"
      },
      "source": [
        "**TASK: Plot out the time series**"
      ]
    },
    {
      "cell_type": "code",
      "metadata": {
        "colab": {
          "base_uri": "https://localhost:8080/",
          "height": 313
        },
        "id": "GBx0k4CiqVts",
        "outputId": "c41c6a65-9f86-4a5f-8220-ca723e9bb154"
      },
      "source": [
        "plt.figure(figsize=(12,8))\r\n",
        "\r\n",
        "df.plot()"
      ],
      "execution_count": 10,
      "outputs": [
        {
          "output_type": "execute_result",
          "data": {
            "text/plain": [
              "<matplotlib.axes._subplots.AxesSubplot at 0x7fd4bfdfa590>"
            ]
          },
          "metadata": {
            "tags": []
          },
          "execution_count": 10
        },
        {
          "output_type": "display_data",
          "data": {
            "text/plain": [
              "<Figure size 864x576 with 0 Axes>"
            ]
          },
          "metadata": {
            "tags": []
          }
        },
        {
          "output_type": "display_data",
          "data": {
            "image/png": "[encoded data removed]",
            "text/plain": [
              "<Figure size 432x288 with 1 Axes>"
            ]
          },
          "metadata": {
            "tags": [],
            "needs_background": "light"
          }
        }
      ]
    },
    {
      "cell_type": "code",
      "metadata": {
        "id": "81-Z-SCnqVts"
      },
      "source": [
        ""
      ],
      "execution_count": 10,
      "outputs": []
    },
    {
      "cell_type": "markdown",
      "metadata": {
        "id": "JnXZvJI1qVtt"
      },
      "source": [
        "## Train Test Split"
      ]
    },
    {
      "cell_type": "markdown",
      "metadata": {
        "id": "208ZdC-0qVtt"
      },
      "source": [
        "**TASK: Figure out the length of the data set**"
      ]
    },
    {
      "cell_type": "code",
      "metadata": {
        "colab": {
          "base_uri": "https://localhost:8080/"
        },
        "id": "FTwUBcu7qVtt",
        "outputId": "43dd4959-9d34-4cf8-e509-20ce8a0f8d9f"
      },
      "source": [
        "#CODE HERE\r\n",
        "len(df)"
      ],
      "execution_count": 11,
      "outputs": [
        {
          "output_type": "execute_result",
          "data": {
            "text/plain": [
              "573"
            ]
          },
          "metadata": {
            "tags": []
          },
          "execution_count": 11
        }
      ]
    },
    {
      "cell_type": "code",
      "metadata": {
        "id": "3hwYoJF-qVtt"
      },
      "source": [
        ""
      ],
      "execution_count": 11,
      "outputs": []
    },
    {
      "cell_type": "markdown",
      "metadata": {
        "id": "nBtC20rDqVtu"
      },
      "source": [
        "**TASK: Split the data into a train/test split where the test set is the last 24 months of data.**"
      ]
    },
    {
      "cell_type": "code",
      "metadata": {
        "colab": {
          "base_uri": "https://localhost:8080/"
        },
        "id": "hhMMfCfBqVtu",
        "outputId": "50ae132c-b08b-4380-c903-20eba74c2119"
      },
      "source": [
        "#CODE HERE\r\n",
        "train = len(df) - 18\r\n",
        "train"
      ],
      "execution_count": 12,
      "outputs": [
        {
          "output_type": "execute_result",
          "data": {
            "text/plain": [
              "555"
            ]
          },
          "metadata": {
            "tags": []
          },
          "execution_count": 12
        }
      ]
    },
    {
      "cell_type": "code",
      "metadata": {
        "colab": {
          "base_uri": "https://localhost:8080/"
        },
        "id": "w3Snjy7uqVtu",
        "outputId": "e22cfd67-822e-4523-a760-226f583ace56"
      },
      "source": [
        "test = len(df) - train\r\n",
        "test"
      ],
      "execution_count": 13,
      "outputs": [
        {
          "output_type": "execute_result",
          "data": {
            "text/plain": [
              "18"
            ]
          },
          "metadata": {
            "tags": []
          },
          "execution_count": 13
        }
      ]
    },
    {
      "cell_type": "code",
      "metadata": {
        "id": "AcGz9SFPqVtu"
      },
      "source": [
        ""
      ],
      "execution_count": 13,
      "outputs": []
    },
    {
      "cell_type": "code",
      "metadata": {
        "id": "edQqFftVqVtu"
      },
      "source": [
        ""
      ],
      "execution_count": 13,
      "outputs": []
    },
    {
      "cell_type": "markdown",
      "metadata": {
        "id": "vLz3OMgCqVtv"
      },
      "source": [
        "## Scale Data"
      ]
    },
    {
      "cell_type": "markdown",
      "metadata": {
        "id": "cVUyRHQwqVtv"
      },
      "source": [
        "**TASK: Use a MinMaxScaler to scale the train and test sets into scaled versions.**"
      ]
    },
    {
      "cell_type": "code",
      "metadata": {
        "id": "aRXg1mUDqVtv"
      },
      "source": [
        "# CODE HERE\r\n",
        "from sklearn.preprocessing import MinMaxScaler\r\n",
        "scaler = MinMaxScaler()"
      ],
      "execution_count": 14,
      "outputs": []
    },
    {
      "cell_type": "code",
      "metadata": {
        "id": "CGtz076QvYYd"
      },
      "source": [
        "train_df = df.iloc[:train]"
      ],
      "execution_count": 15,
      "outputs": []
    },
    {
      "cell_type": "code",
      "metadata": {
        "colab": {
          "base_uri": "https://localhost:8080/"
        },
        "id": "f-CvfSv21mZp",
        "outputId": "269a97ce-9fb8-4910-8652-9f2e11be8918"
      },
      "source": [
        "len(train_df)"
      ],
      "execution_count": 16,
      "outputs": [
        {
          "output_type": "execute_result",
          "data": {
            "text/plain": [
              "555"
            ]
          },
          "metadata": {
            "tags": []
          },
          "execution_count": 16
        }
      ]
    },
    {
      "cell_type": "code",
      "metadata": {
        "id": "7JYIosNPqVtv"
      },
      "source": [
        "test_df = df.iloc[train:]"
      ],
      "execution_count": 17,
      "outputs": []
    },
    {
      "cell_type": "markdown",
      "metadata": {
        "id": "QIYDeI1j2L7F"
      },
      "source": [
        ""
      ]
    },
    {
      "cell_type": "code",
      "metadata": {
        "colab": {
          "base_uri": "https://localhost:8080/"
        },
        "id": "gzoK54yF04vz",
        "outputId": "ca2b919e-11c7-4517-e17a-e658c1710653"
      },
      "source": [
        "len(test_df)"
      ],
      "execution_count": 18,
      "outputs": [
        {
          "output_type": "execute_result",
          "data": {
            "text/plain": [
              "18"
            ]
          },
          "metadata": {
            "tags": []
          },
          "execution_count": 18
        }
      ]
    },
    {
      "cell_type": "code",
      "metadata": {
        "colab": {
          "base_uri": "https://localhost:8080/"
        },
        "id": "wBMeLKc4qVtv",
        "outputId": "204d7fd5-cacb-4788-c4f4-200563c94049"
      },
      "source": [
        "scaler.fit(train_df)"
      ],
      "execution_count": 19,
      "outputs": [
        {
          "output_type": "execute_result",
          "data": {
            "text/plain": [
              "MinMaxScaler(copy=True, feature_range=(0, 1))"
            ]
          },
          "metadata": {
            "tags": []
          },
          "execution_count": 19
        }
      ]
    },
    {
      "cell_type": "code",
      "metadata": {
        "id": "0NjY1HhsvxQc"
      },
      "source": [
        "scaled_train = scaler.transform(train_df)"
      ],
      "execution_count": 20,
      "outputs": []
    },
    {
      "cell_type": "code",
      "metadata": {
        "colab": {
          "base_uri": "https://localhost:8080/"
        },
        "id": "eRO0W4uU1rKC",
        "outputId": "41a898f8-bd90-4d75-9975-84a6f1e3e0d5"
      },
      "source": [
        "len(scaled_train)"
      ],
      "execution_count": 21,
      "outputs": [
        {
          "output_type": "execute_result",
          "data": {
            "text/plain": [
              "555"
            ]
          },
          "metadata": {
            "tags": []
          },
          "execution_count": 21
        }
      ]
    },
    {
      "cell_type": "code",
      "metadata": {
        "id": "0wuf6jgUvxTd"
      },
      "source": [
        "scaled_test = scaler.transform(test_df)"
      ],
      "execution_count": 22,
      "outputs": []
    },
    {
      "cell_type": "code",
      "metadata": {
        "id": "zDIfjWouqVtv"
      },
      "source": [
        ""
      ],
      "execution_count": 22,
      "outputs": []
    },
    {
      "cell_type": "code",
      "metadata": {
        "id": "X6gMpPF0qVtw"
      },
      "source": [
        ""
      ],
      "execution_count": 22,
      "outputs": []
    },
    {
      "cell_type": "markdown",
      "metadata": {
        "id": "omBhRngaqVtw"
      },
      "source": [
        "# Time Series Generator\n",
        "\n",
        "**TASK: Create a TimeSeriesGenerator object based off the scaled_train data. The batch length is up to you, but at a minimum it should be at least 18 to capture a full year seasonality.**"
      ]
    },
    {
      "cell_type": "code",
      "metadata": {
        "id": "H4rtFAo6qVtw"
      },
      "source": [
        "#CODE HERE\r\n",
        "from tensorflow.keras.preprocessing.sequence import TimeseriesGenerator"
      ],
      "execution_count": 23,
      "outputs": []
    },
    {
      "cell_type": "code",
      "metadata": {
        "colab": {
          "base_uri": "https://localhost:8080/"
        },
        "id": "WL7L4DIGqVtw",
        "outputId": "873f1849-2c91-4b93-8aed-05fd540535c2"
      },
      "source": [
        "help(TimeseriesGenerator)"
      ],
      "execution_count": 24,
      "outputs": [
        {
          "output_type": "stream",
          "text": [
            "Help on class TimeseriesGenerator in module tensorflow.python.keras.preprocessing.sequence:\n",
            "\n",
            "class TimeseriesGenerator(keras_preprocessing.sequence.TimeseriesGenerator, tensorflow.python.keras.utils.data_utils.Sequence)\n",
            " |  TimeseriesGenerator(data, targets, length, sampling_rate=1, stride=1, start_index=0, end_index=None, shuffle=False, reverse=False, batch_size=128)\n",
            " |  \n",
            " |  Utility class for generating batches of temporal data.\n",
            " |  \n",
            " |  This class takes in a sequence of data-points gathered at\n",
            " |  equal intervals, along with time series parameters such as\n",
            " |  stride, length of history, etc., to produce batches for\n",
            " |  training/validation.\n",
            " |  # Arguments\n",
            " |      data: Indexable generator (such as list or Numpy array)\n",
            " |          containing consecutive data points (timesteps).\n",
            " |          The data should be at 2D, and axis 0 is expected\n",
            " |          to be the time dimension.\n",
            " |      targets: Targets corresponding to timesteps in `data`.\n",
            " |          It should have same length as `data`.\n",
            " |      length: Length of the output sequences (in number of timesteps).\n",
            " |      sampling_rate: Period between successive individual timesteps\n",
            " |          within sequences. For rate `r`, timesteps\n",
            " |          `data[i]`, `data[i-r]`, ... `data[i - length]`\n",
            " |          are used for create a sample sequence.\n",
            " |      stride: Period between successive output sequences.\n",
            " |          For stride `s`, consecutive output samples would\n",
            " |          be centered around `data[i]`, `data[i+s]`, `data[i+2*s]`, etc.\n",
            " |      start_index: Data points earlier than `start_index` will not be used\n",
            " |          in the output sequences. This is useful to reserve part of the\n",
            " |          data for test or validation.\n",
            " |      end_index: Data points later than `end_index` will not be used\n",
            " |          in the output sequences. This is useful to reserve part of the\n",
            " |          data for test or validation.\n",
            " |      shuffle: Whether to shuffle output samples,\n",
            " |          or instead draw them in chronological order.\n",
            " |      reverse: Boolean: if `true`, timesteps in each output sample will be\n",
            " |          in reverse chronological order.\n",
            " |      batch_size: Number of timeseries samples in each batch\n",
            " |          (except maybe the last one).\n",
            " |  # Returns\n",
            " |      A [Sequence](/utils/#sequence) instance.\n",
            " |  # Examples\n",
            " |  ```python\n",
            " |  from keras.preprocessing.sequence import TimeseriesGenerator\n",
            " |  import numpy as np\n",
            " |  data = np.array([[i] for i in range(50)])\n",
            " |  targets = np.array([[i] for i in range(50)])\n",
            " |  data_gen = TimeseriesGenerator(data, targets,\n",
            " |                                 length=10, sampling_rate=2,\n",
            " |                                 batch_size=2)\n",
            " |  assert len(data_gen) == 20\n",
            " |  batch_0 = data_gen[0]\n",
            " |  x, y = batch_0\n",
            " |  assert np.array_equal(x,\n",
            " |                        np.array([[[0], [2], [4], [6], [8]],\n",
            " |                                  [[1], [3], [5], [7], [9]]]))\n",
            " |  assert np.array_equal(y,\n",
            " |                        np.array([[10], [11]]))\n",
            " |  ```\n",
            " |  \n",
            " |  Method resolution order:\n",
            " |      TimeseriesGenerator\n",
            " |      keras_preprocessing.sequence.TimeseriesGenerator\n",
            " |      tensorflow.python.keras.utils.data_utils.Sequence\n",
            " |      builtins.object\n",
            " |  \n",
            " |  Methods inherited from keras_preprocessing.sequence.TimeseriesGenerator:\n",
            " |  \n",
            " |  __getitem__(self, index)\n",
            " |  \n",
            " |  __init__(self, data, targets, length, sampling_rate=1, stride=1, start_index=0, end_index=None, shuffle=False, reverse=False, batch_size=128)\n",
            " |      Initialize self.  See help(type(self)) for accurate signature.\n",
            " |  \n",
            " |  __len__(self)\n",
            " |  \n",
            " |  get_config(self)\n",
            " |      Returns the TimeseriesGenerator configuration as Python dictionary.\n",
            " |      \n",
            " |      # Returns\n",
            " |          A Python dictionary with the TimeseriesGenerator configuration.\n",
            " |  \n",
            " |  to_json(self, **kwargs)\n",
            " |      Returns a JSON string containing the timeseries generator\n",
            " |      configuration. To load a generator from a JSON string, use\n",
            " |      `keras.preprocessing.sequence.timeseries_generator_from_json(json_string)`.\n",
            " |      \n",
            " |      # Arguments\n",
            " |          **kwargs: Additional keyword arguments\n",
            " |              to be passed to `json.dumps()`.\n",
            " |      \n",
            " |      # Returns\n",
            " |          A JSON string containing the tokenizer configuration.\n",
            " |  \n",
            " |  ----------------------------------------------------------------------\n",
            " |  Data descriptors inherited from keras_preprocessing.sequence.TimeseriesGenerator:\n",
            " |  \n",
            " |  __dict__\n",
            " |      dictionary for instance variables (if defined)\n",
            " |  \n",
            " |  __weakref__\n",
            " |      list of weak references to the object (if defined)\n",
            " |  \n",
            " |  ----------------------------------------------------------------------\n",
            " |  Methods inherited from tensorflow.python.keras.utils.data_utils.Sequence:\n",
            " |  \n",
            " |  __iter__(self)\n",
            " |      Create a generator that iterate over the Sequence.\n",
            " |  \n",
            " |  on_epoch_end(self)\n",
            " |      Method called at the end of every epoch.\n",
            "\n"
          ],
          "name": "stdout"
        }
      ]
    },
    {
      "cell_type": "code",
      "metadata": {
        "id": "WUHRmc8Rwo7U"
      },
      "source": [
        "length = 12\r\n",
        "n_features = 1\r\n",
        "\r\n",
        "generator = TimeseriesGenerator(scaled_train, scaled_train, length=length, batch_size=1)\r\n"
      ],
      "execution_count": 25,
      "outputs": []
    },
    {
      "cell_type": "code",
      "metadata": {
        "colab": {
          "base_uri": "https://localhost:8080/"
        },
        "id": "NrZKaF-Cye6x",
        "outputId": "da8ee47b-3316-4ef3-eec9-f1675c9196c3"
      },
      "source": [
        "len(scaled_train)"
      ],
      "execution_count": 26,
      "outputs": [
        {
          "output_type": "execute_result",
          "data": {
            "text/plain": [
              "555"
            ]
          },
          "metadata": {
            "tags": []
          },
          "execution_count": 26
        }
      ]
    },
    {
      "cell_type": "code",
      "metadata": {
        "colab": {
          "base_uri": "https://localhost:8080/"
        },
        "id": "JHRi8RcXyfG4",
        "outputId": "0a9c78fc-35f0-46f8-bdff-bd93e851d58d"
      },
      "source": [
        "len(generator)"
      ],
      "execution_count": 27,
      "outputs": [
        {
          "output_type": "execute_result",
          "data": {
            "text/plain": [
              "543"
            ]
          },
          "metadata": {
            "tags": []
          },
          "execution_count": 27
        }
      ]
    },
    {
      "cell_type": "code",
      "metadata": {
        "id": "vlMyj34ayfSd"
      },
      "source": [
        "X, y = generator[0]"
      ],
      "execution_count": 28,
      "outputs": []
    },
    {
      "cell_type": "code",
      "metadata": {
        "colab": {
          "base_uri": "https://localhost:8080/"
        },
        "id": "LEf95mXPwpHq",
        "outputId": "bd7a2ed4-818d-43ed-b581-caa93696c0a5"
      },
      "source": [
        "X"
      ],
      "execution_count": 29,
      "outputs": [
        {
          "output_type": "execute_result",
          "data": {
            "text/plain": [
              "array([[[0.00947104],\n",
              "        [0.06108982],\n",
              "        [0.11326273],\n",
              "        [0.14145625],\n",
              "        [0.18982663],\n",
              "        [0.30495972],\n",
              "        [0.30154406],\n",
              "        [0.27416065],\n",
              "        [0.19736841],\n",
              "        [0.08532665],\n",
              "        [0.01561588],\n",
              "        [0.        ]]])"
            ]
          },
          "metadata": {
            "tags": []
          },
          "execution_count": 29
        }
      ]
    },
    {
      "cell_type": "code",
      "metadata": {
        "colab": {
          "base_uri": "https://localhost:8080/"
        },
        "id": "rW3Quc7tqVtw",
        "outputId": "fec71636-ecd8-49dc-f267-8e8788b98c6a"
      },
      "source": [
        "y"
      ],
      "execution_count": 30,
      "outputs": [
        {
          "output_type": "execute_result",
          "data": {
            "text/plain": [
              "array([[0.01774221]])"
            ]
          },
          "metadata": {
            "tags": []
          },
          "execution_count": 30
        }
      ]
    },
    {
      "cell_type": "code",
      "metadata": {
        "colab": {
          "base_uri": "https://localhost:8080/"
        },
        "id": "pkR5fYSO3EA_",
        "outputId": "187b87d6-6f3d-4e1f-823f-c76e2e210ae2"
      },
      "source": [
        "scaled_train"
      ],
      "execution_count": 31,
      "outputs": [
        {
          "output_type": "execute_result",
          "data": {
            "text/plain": [
              "array([[0.00947104],\n",
              "       [0.06108982],\n",
              "       [0.11326273],\n",
              "       [0.14145625],\n",
              "       [0.18982663],\n",
              "       [0.30495972],\n",
              "       [0.30154406],\n",
              "       [0.27416065],\n",
              "       [0.19736841],\n",
              "       [0.08532665],\n",
              "       [0.01561588],\n",
              "       [0.        ],\n",
              "       [0.01774221],\n",
              "       [0.09850931],\n",
              "       [0.15590133],\n",
              "       [0.18358944],\n",
              "       [0.20878908],\n",
              "       [0.37150354],\n",
              "       [0.3542551 ],\n",
              "       [0.29817568],\n",
              "       [0.23973867],\n",
              "       [0.12104304],\n",
              "       [0.05289938],\n",
              "       [0.02087498],\n",
              "       [0.03141355],\n",
              "       [0.12133246],\n",
              "       [0.18622481],\n",
              "       [0.18855185],\n",
              "       [0.23182893],\n",
              "       [0.37263651],\n",
              "       [0.32891584],\n",
              "       [0.30809031],\n",
              "       [0.22409662],\n",
              "       [0.10933731],\n",
              "       [0.05452176],\n",
              "       [0.01749278],\n",
              "       [0.04076752],\n",
              "       [0.12186114],\n",
              "       [0.19277469],\n",
              "       [0.19221257],\n",
              "       [0.28139264],\n",
              "       [0.39898221],\n",
              "       [0.35985962],\n",
              "       [0.3357137 ],\n",
              "       [0.22874706],\n",
              "       [0.12405219],\n",
              "       [0.08404241],\n",
              "       [0.02969736],\n",
              "       [0.02386668],\n",
              "       [0.11198795],\n",
              "       [0.20583228],\n",
              "       [0.22885832],\n",
              "       [0.258115  ],\n",
              "       [0.37353242],\n",
              "       [0.35488703],\n",
              "       [0.32839226],\n",
              "       [0.24418041],\n",
              "       [0.11957773],\n",
              "       [0.06451857],\n",
              "       [0.02780228],\n",
              "       [0.0371497 ],\n",
              "       [0.11927158],\n",
              "       [0.22805913],\n",
              "       [0.24728191],\n",
              "       [0.29422626],\n",
              "       [0.40769115],\n",
              "       [0.39028709],\n",
              "       [0.34726599],\n",
              "       [0.24042588],\n",
              "       [0.12627596],\n",
              "       [0.06351285],\n",
              "       [0.0202285 ],\n",
              "       [0.02347545],\n",
              "       [0.10334519],\n",
              "       [0.1837756 ],\n",
              "       [0.2210642 ],\n",
              "       [0.24573807],\n",
              "       [0.38298674],\n",
              "       [0.35098488],\n",
              "       [0.32746581],\n",
              "       [0.23241214],\n",
              "       [0.14925109],\n",
              "       [0.06708485],\n",
              "       [0.02722198],\n",
              "       [0.03164989],\n",
              "       [0.11112186],\n",
              "       [0.2019265 ],\n",
              "       [0.23665099],\n",
              "       [0.26208914],\n",
              "       [0.37409745],\n",
              "       [0.35265235],\n",
              "       [0.34987663],\n",
              "       [0.26656578],\n",
              "       [0.15226024],\n",
              "       [0.06714158],\n",
              "       [0.03363442],\n",
              "       [0.06052406],\n",
              "       [0.12932729],\n",
              "       [0.19801489],\n",
              "       [0.21334643],\n",
              "       [0.24370918],\n",
              "       [0.36219466],\n",
              "       [0.35788891],\n",
              "       [0.35776456],\n",
              "       [0.23277138],\n",
              "       [0.12775799],\n",
              "       [0.05691861],\n",
              "       [0.03785508],\n",
              "       [0.01381533],\n",
              "       [0.12962762],\n",
              "       [0.20328854],\n",
              "       [0.22088022],\n",
              "       [0.25480042],\n",
              "       [0.37831666],\n",
              "       [0.37904459],\n",
              "       [0.34512729],\n",
              "       [0.23860352],\n",
              "       [0.13282148],\n",
              "       [0.08994218],\n",
              "       [0.05773525],\n",
              "       [0.02483822],\n",
              "       [0.13358431],\n",
              "       [0.21702097],\n",
              "       [0.20059209],\n",
              "       [0.25218323],\n",
              "       [0.35104815],\n",
              "       [0.30896077],\n",
              "       [0.2875462 ],\n",
              "       [0.20017176],\n",
              "       [0.0975465 ],\n",
              "       [0.05358004],\n",
              "       [0.02042848],\n",
              "       [0.03538915],\n",
              "       [0.11420518],\n",
              "       [0.20355324],\n",
              "       [0.18085953],\n",
              "       [0.25954903],\n",
              "       [0.37499118],\n",
              "       [0.35553497],\n",
              "       [0.3391439 ],\n",
              "       [0.27074427],\n",
              "       [0.148385  ],\n",
              "       [0.08505031],\n",
              "       [0.05037236],\n",
              "       [0.06065787],\n",
              "       [0.19601364],\n",
              "       [0.27717707],\n",
              "       [0.31389336],\n",
              "       [0.36123257],\n",
              "       [0.5103535 ],\n",
              "       [0.48335114],\n",
              "       [0.42139813],\n",
              "       [0.35071873],\n",
              "       [0.21527206],\n",
              "       [0.15798912],\n",
              "       [0.11136474],\n",
              "       [0.12736022],\n",
              "       [0.20326527],\n",
              "       [0.30960943],\n",
              "       [0.33601549],\n",
              "       [0.40474599],\n",
              "       [0.52313039],\n",
              "       [0.47891086],\n",
              "       [0.42749206],\n",
              "       [0.33018917],\n",
              "       [0.20046264],\n",
              "       [0.11634751],\n",
              "       [0.08706829],\n",
              "       [0.10924132],\n",
              "       [0.22016465],\n",
              "       [0.30084013],\n",
              "       [0.33190536],\n",
              "       [0.39731693],\n",
              "       [0.4993168 ],\n",
              "       [0.4556863 ],\n",
              "       [0.43936795],\n",
              "       [0.27786718],\n",
              "       [0.20181378],\n",
              "       [0.13316399],\n",
              "       [0.08697739],\n",
              "       [0.11117567],\n",
              "       [0.2609009 ],\n",
              "       [0.32682078],\n",
              "       [0.35021332],\n",
              "       [0.42287143],\n",
              "       [0.53338753],\n",
              "       [0.49991019],\n",
              "       [0.47278857],\n",
              "       [0.34951085],\n",
              "       [0.22357085],\n",
              "       [0.18885364],\n",
              "       [0.15302162],\n",
              "       [0.15446002],\n",
              "       [0.28620889],\n",
              "       [0.41037451],\n",
              "       [0.44149937],\n",
              "       [0.51908643],\n",
              "       [0.67098671],\n",
              "       [0.6310693 ],\n",
              "       [0.59691057],\n",
              "       [0.42703174],\n",
              "       [0.30134117],\n",
              "       [0.21173496],\n",
              "       [0.17769331],\n",
              "       [0.21058162],\n",
              "       [0.33226023],\n",
              "       [0.41286154],\n",
              "       [0.45465949],\n",
              "       [0.49043479],\n",
              "       [0.5949195 ],\n",
              "       [0.55552639],\n",
              "       [0.50626082],\n",
              "       [0.37695462],\n",
              "       [0.28191477],\n",
              "       [0.23327315],\n",
              "       [0.19892025],\n",
              "       [0.17357736],\n",
              "       [0.32809629],\n",
              "       [0.4263489 ],\n",
              "       [0.46025165],\n",
              "       [0.4935632 ],\n",
              "       [0.60079527],\n",
              "       [0.617843  ],\n",
              "       [0.51202315],\n",
              "       [0.40538302],\n",
              "       [0.28864864],\n",
              "       [0.21277195],\n",
              "       [0.19688192],\n",
              "       [0.19348371],\n",
              "       [0.33595876],\n",
              "       [0.4323352 ],\n",
              "       [0.46814249],\n",
              "       [0.50374908],\n",
              "       [0.71868953],\n",
              "       [0.59645534],\n",
              "       [0.56009611],\n",
              "       [0.45327491],\n",
              "       [0.32803084],\n",
              "       [0.24159158],\n",
              "       [0.22064751],\n",
              "       [0.22953752],\n",
              "       [0.37632559],\n",
              "       [0.52945048],\n",
              "       [0.55670736],\n",
              "       [0.61181451],\n",
              "       [0.72450058],\n",
              "       [0.64286447],\n",
              "       [0.62011695],\n",
              "       [0.49738245],\n",
              "       [0.36981643],\n",
              "       [0.29573592],\n",
              "       [0.24950569],\n",
              "       [0.26693083],\n",
              "       [0.47106438],\n",
              "       [0.54508017],\n",
              "       [0.59702983],\n",
              "       [0.66830844],\n",
              "       [0.77390504],\n",
              "       [0.7325754 ],\n",
              "       [0.6803734 ],\n",
              "       [0.50636554],\n",
              "       [0.37017931],\n",
              "       [0.2737985 ],\n",
              "       [0.23159986],\n",
              "       [0.29683036],\n",
              "       [0.44392749],\n",
              "       [0.54969425],\n",
              "       [0.60065928],\n",
              "       [0.62634759],\n",
              "       [0.73133116],\n",
              "       [0.70677655],\n",
              "       [0.61726342],\n",
              "       [0.45562739],\n",
              "       [0.37282413],\n",
              "       [0.31570409],\n",
              "       [0.25793611],\n",
              "       [0.33661906],\n",
              "       [0.46491009],\n",
              "       [0.58333448],\n",
              "       [0.66460627],\n",
              "       [0.65484071],\n",
              "       [0.84212141],\n",
              "       [0.83159666],\n",
              "       [0.77134312],\n",
              "       [0.5765359 ],\n",
              "       [0.49703412],\n",
              "       [0.35935495],\n",
              "       [0.26985999],\n",
              "       [0.36437626],\n",
              "       [0.51454071],\n",
              "       [0.63086641],\n",
              "       [0.67844487],\n",
              "       [0.7149939 ],\n",
              "       [0.91226778],\n",
              "       [0.80510188],\n",
              "       [0.68516274],\n",
              "       [0.56400117],\n",
              "       [0.39649446],\n",
              "       [0.2818566 ],\n",
              "       [0.26014025],\n",
              "       [0.32665061],\n",
              "       [0.49801438],\n",
              "       [0.57758088],\n",
              "       [0.57365619],\n",
              "       [0.60384732],\n",
              "       [0.72545175],\n",
              "       [0.63770353],\n",
              "       [0.573702  ],\n",
              "       [0.42061493],\n",
              "       [0.34058739],\n",
              "       [0.26069946],\n",
              "       [0.18097152],\n",
              "       [0.2756834 ],\n",
              "       [0.43318312],\n",
              "       [0.51407385],\n",
              "       [0.55039963],\n",
              "       [0.595334  ],\n",
              "       [0.65870359],\n",
              "       [0.58609057],\n",
              "       [0.51790837],\n",
              "       [0.40765115],\n",
              "       [0.27578448],\n",
              "       [0.17157466],\n",
              "       [0.14559837],\n",
              "       [0.20169161],\n",
              "       [0.30520478],\n",
              "       [0.34726308],\n",
              "       [0.39276975],\n",
              "       [0.4190151 ],\n",
              "       [0.51046112],\n",
              "       [0.46158897],\n",
              "       [0.44354134],\n",
              "       [0.32636192],\n",
              "       [0.24344375],\n",
              "       [0.1867324 ],\n",
              "       [0.1517403 ],\n",
              "       [0.25227413],\n",
              "       [0.3827584 ],\n",
              "       [0.482933  ],\n",
              "       [0.5663013 ],\n",
              "       [0.5595318 ],\n",
              "       [0.66509713],\n",
              "       [0.63101039],\n",
              "       [0.53208803],\n",
              "       [0.42556207],\n",
              "       [0.40049988],\n",
              "       [0.24705066],\n",
              "       [0.21710605],\n",
              "       [0.3106246 ],\n",
              "       [0.41679205],\n",
              "       [0.4655653 ],\n",
              "       [0.55069633],\n",
              "       [0.53323628],\n",
              "       [0.65273256],\n",
              "       [0.6022453 ],\n",
              "       [0.55351132],\n",
              "       [0.50874712],\n",
              "       [0.41053159],\n",
              "       [0.3376495 ],\n",
              "       [0.33408986],\n",
              "       [0.45304729],\n",
              "       [0.61827568],\n",
              "       [0.70208393],\n",
              "       [0.80395291],\n",
              "       [0.7747675 ],\n",
              "       [0.94670357],\n",
              "       [0.83318341],\n",
              "       [0.76047149],\n",
              "       [0.66868586],\n",
              "       [0.56791495],\n",
              "       [0.40647818],\n",
              "       [0.34147893],\n",
              "       [0.48424123],\n",
              "       [0.60888972],\n",
              "       [0.62540223],\n",
              "       [0.67443146],\n",
              "       [0.64487663],\n",
              "       [0.75766377],\n",
              "       [0.63589572],\n",
              "       [0.59974083],\n",
              "       [0.49501178],\n",
              "       [0.41579651],\n",
              "       [0.34921415],\n",
              "       [0.25354891],\n",
              "       [0.33055422],\n",
              "       [0.48986321],\n",
              "       [0.59474788],\n",
              "       [0.65434403],\n",
              "       [0.66753543],\n",
              "       [0.80265631],\n",
              "       [0.71705115],\n",
              "       [0.68986262],\n",
              "       [0.62369695],\n",
              "       [0.58805692],\n",
              "       [0.44984325],\n",
              "       [0.38266895],\n",
              "       [0.52076263],\n",
              "       [0.65111818],\n",
              "       [0.73167294],\n",
              "       [0.82298299],\n",
              "       [0.80931746],\n",
              "       [1.        ],\n",
              "       [0.95692363],\n",
              "       [0.87718478],\n",
              "       [0.69141447],\n",
              "       [0.62214002],\n",
              "       [0.4621831 ],\n",
              "       [0.3511725 ],\n",
              "       [0.52481749],\n",
              "       [0.62277559],\n",
              "       [0.71054126],\n",
              "       [0.79313728],\n",
              "       [0.73648118],\n",
              "       [0.90148196],\n",
              "       [0.85356971],\n",
              "       [0.76810199],\n",
              "       [0.63817985],\n",
              "       [0.50364654],\n",
              "       [0.38121819],\n",
              "       [0.31740064],\n",
              "       [0.49162376],\n",
              "       [0.58495105],\n",
              "       [0.68667095],\n",
              "       [0.80952762],\n",
              "       [0.79009104],\n",
              "       [0.88302055],\n",
              "       [0.78941838],\n",
              "       [0.65857997],\n",
              "       [0.60582894],\n",
              "       [0.49204408],\n",
              "       [0.32987647],\n",
              "       [0.2969518 ],\n",
              "       [0.35876955],\n",
              "       [0.48110555],\n",
              "       [0.59006762],\n",
              "       [0.60473814],\n",
              "       [0.61824732],\n",
              "       [0.80533386],\n",
              "       [0.62801433],\n",
              "       [0.58998181],\n",
              "       [0.47530395],\n",
              "       [0.36576521],\n",
              "       [0.3184129 ],\n",
              "       [0.18278007],\n",
              "       [0.25838552],\n",
              "       [0.41127697],\n",
              "       [0.51611292],\n",
              "       [0.54115039],\n",
              "       [0.57690677],\n",
              "       [0.66681259],\n",
              "       [0.55138499],\n",
              "       [0.53718642],\n",
              "       [0.4420215 ],\n",
              "       [0.34988681],\n",
              "       [0.21230072],\n",
              "       [0.13914302],\n",
              "       [0.23728292],\n",
              "       [0.37697716],\n",
              "       [0.49767551],\n",
              "       [0.53803288],\n",
              "       [0.55192821],\n",
              "       [0.62024348],\n",
              "       [0.51047058],\n",
              "       [0.48647082],\n",
              "       [0.41747634],\n",
              "       [0.28427817],\n",
              "       [0.16309115],\n",
              "       [0.10268271],\n",
              "       [0.24689286],\n",
              "       [0.3454618 ],\n",
              "       [0.40423986],\n",
              "       [0.42151084],\n",
              "       [0.41797011],\n",
              "       [0.45169179],\n",
              "       [0.41887911],\n",
              "       [0.40972803],\n",
              "       [0.31339595],\n",
              "       [0.23591506],\n",
              "       [0.12980579],\n",
              "       [0.09307932],\n",
              "       [0.19444507],\n",
              "       [0.29743684],\n",
              "       [0.39142952],\n",
              "       [0.40833181],\n",
              "       [0.40654945],\n",
              "       [0.47764626],\n",
              "       [0.39026746],\n",
              "       [0.35620545],\n",
              "       [0.27422828],\n",
              "       [0.2198076 ],\n",
              "       [0.11764411],\n",
              "       [0.07351475],\n",
              "       [0.14149624],\n",
              "       [0.2863296 ],\n",
              "       [0.35795581],\n",
              "       [0.35814561],\n",
              "       [0.37998486],\n",
              "       [0.50926561],\n",
              "       [0.39057433],\n",
              "       [0.34465461],\n",
              "       [0.28747203],\n",
              "       [0.23516459],\n",
              "       [0.15569044],\n",
              "       [0.06649001],\n",
              "       [0.20170834],\n",
              "       [0.31321197],\n",
              "       [0.40080166],\n",
              "       [0.44136265],\n",
              "       [0.42156466],\n",
              "       [0.52634606],\n",
              "       [0.42622818],\n",
              "       [0.38365722],\n",
              "       [0.30511534],\n",
              "       [0.23707931],\n",
              "       [0.20297948],\n",
              "       [0.12155208],\n",
              "       [0.19574094],\n",
              "       [0.30468338],\n",
              "       [0.37028329],\n",
              "       [0.36143183],\n",
              "       [0.34467716],\n",
              "       [0.41797884],\n",
              "       [0.36154745],\n",
              "       [0.38938173],\n",
              "       [0.30315844],\n",
              "       [0.25649698],\n",
              "       [0.19782873],\n",
              "       [0.13318726],\n",
              "       [0.24834362],\n",
              "       [0.3149827 ],\n",
              "       [0.41828135],\n",
              "       [0.4766849 ],\n",
              "       [0.45728977],\n",
              "       [0.54050318],\n",
              "       [0.48134479],\n",
              "       [0.45575247],\n",
              "       [0.35906261],\n",
              "       [0.31068714],\n",
              "       [0.20365141],\n",
              "       [0.16432593],\n",
              "       [0.2587782 ],\n",
              "       [0.39071032],\n",
              "       [0.44387077],\n",
              "       [0.4695409 ],\n",
              "       [0.41743926],\n",
              "       [0.46851409],\n",
              "       [0.41889656],\n",
              "       [0.39641011],\n",
              "       [0.28544533],\n",
              "       [0.23134679],\n",
              "       [0.13655347],\n",
              "       [0.12472921],\n",
              "       [0.18015997],\n",
              "       [0.29691617],\n",
              "       [0.35382169]])"
            ]
          },
          "metadata": {
            "tags": []
          },
          "execution_count": 31
        }
      ]
    },
    {
      "cell_type": "code",
      "metadata": {
        "id": "-e2m27L83EE-"
      },
      "source": [
        ""
      ],
      "execution_count": 31,
      "outputs": []
    },
    {
      "cell_type": "markdown",
      "metadata": {
        "id": "rA_uWVPWqVtw"
      },
      "source": [
        "### Create the Model\n",
        "\n",
        "**TASK: Create a Keras Sequential Model with as many LSTM units you want and a final Dense Layer.**"
      ]
    },
    {
      "cell_type": "code",
      "metadata": {
        "id": "MGXw0HxoqVtx"
      },
      "source": [
        "from tensorflow.keras.models import Sequential"
      ],
      "execution_count": 32,
      "outputs": []
    },
    {
      "cell_type": "code",
      "metadata": {
        "id": "xwZKxESxqVtx"
      },
      "source": [
        "from tensorflow.keras.layers import Dense, LSTM, SimpleRNN"
      ],
      "execution_count": 33,
      "outputs": []
    },
    {
      "cell_type": "markdown",
      "metadata": {
        "id": "hFWBqdNH39KU"
      },
      "source": [
        ""
      ]
    },
    {
      "cell_type": "code",
      "metadata": {
        "id": "k-JQQodH3hqG"
      },
      "source": [
        "#n_features = 1\r\n",
        "\r\n",
        "#model = Sequential()\r\n",
        "#model.add(SimpleRNN(18, input_shape=(length, n_features)))\r\n",
        "\r\n",
        "#model.add(Dense(1))\r\n",
        "#model.compile(optimizer='adam', loss='mse')"
      ],
      "execution_count": 34,
      "outputs": []
    },
    {
      "cell_type": "code",
      "metadata": {
        "id": "l1wi7w484MXv"
      },
      "source": [
        "#model.summary()"
      ],
      "execution_count": 35,
      "outputs": []
    },
    {
      "cell_type": "code",
      "metadata": {
        "id": "JWrL-26v4iEF"
      },
      "source": [
        "# LSTM \r\n",
        "\r\n",
        "n_features = 1\r\n",
        "\r\n",
        "model = Sequential()\r\n",
        "model.add(LSTM(120, input_shape=(length, n_features)))\r\n",
        "\r\n",
        "model.add(Dense(1))\r\n",
        "model.compile(optimizer='adam', loss='mse')"
      ],
      "execution_count": 36,
      "outputs": []
    },
    {
      "cell_type": "code",
      "metadata": {
        "colab": {
          "base_uri": "https://localhost:8080/"
        },
        "id": "WYtBKLHn4iQR",
        "outputId": "5141d4b6-2e26-4e40-eca6-95f6be7e9f17"
      },
      "source": [
        "model.summary()"
      ],
      "execution_count": 37,
      "outputs": [
        {
          "output_type": "stream",
          "text": [
            "Model: \"sequential\"\n",
            "_________________________________________________________________\n",
            "Layer (type)                 Output Shape              Param #   \n",
            "=================================================================\n",
            "lstm (LSTM)                  (None, 120)               58560     \n",
            "_________________________________________________________________\n",
            "dense (Dense)                (None, 1)                 121       \n",
            "=================================================================\n",
            "Total params: 58,681\n",
            "Trainable params: 58,681\n",
            "Non-trainable params: 0\n",
            "_________________________________________________________________\n"
          ],
          "name": "stdout"
        }
      ]
    },
    {
      "cell_type": "code",
      "metadata": {
        "id": "tDtsZBB04igO"
      },
      "source": [
        ""
      ],
      "execution_count": 37,
      "outputs": []
    },
    {
      "cell_type": "code",
      "metadata": {
        "id": "rm6kyO33qVtx"
      },
      "source": [
        ""
      ],
      "execution_count": 37,
      "outputs": []
    },
    {
      "cell_type": "markdown",
      "metadata": {
        "id": "Aue2bJk0qVtx"
      },
      "source": [
        "**TASK: Create a generator for the scaled test/validation set. NOTE: Double check that your batch length makes sense for the size of the test set as mentioned in the RNN Time Series video.**"
      ]
    },
    {
      "cell_type": "code",
      "metadata": {
        "id": "4PVlj-VJqVtx"
      },
      "source": [
        "# CODE HERE\r\n",
        "length = 12\r\n",
        "generator = TimeseriesGenerator(scaled_train, scaled_train, length=length, batch_size=1)\r\n",
        "validation_generator = TimeseriesGenerator(scaled_test, scaled_test, length=length, batch_size=1)"
      ],
      "execution_count": 38,
      "outputs": []
    },
    {
      "cell_type": "code",
      "metadata": {
        "id": "lM2qy2B0qVtx"
      },
      "source": [
        ""
      ],
      "execution_count": 38,
      "outputs": []
    },
    {
      "cell_type": "markdown",
      "metadata": {
        "id": "AzSFIDFiqVty"
      },
      "source": [
        "**TASK: Create an EarlyStopping callback based on val_loss.**"
      ]
    },
    {
      "cell_type": "code",
      "metadata": {
        "id": "y96DDW--qVty"
      },
      "source": [
        "#CODE HERE\r\n",
        "from tensorflow.keras.callbacks import EarlyStopping\r\n",
        "early_stop = EarlyStopping(monitor='val_loss', patience=2)"
      ],
      "execution_count": 39,
      "outputs": []
    },
    {
      "cell_type": "code",
      "metadata": {
        "id": "2KRwuk4xqVty"
      },
      "source": [
        ""
      ],
      "execution_count": 39,
      "outputs": []
    },
    {
      "cell_type": "code",
      "metadata": {
        "id": "yB1a7MF1qVty"
      },
      "source": [
        ""
      ],
      "execution_count": 39,
      "outputs": []
    },
    {
      "cell_type": "markdown",
      "metadata": {
        "id": "MJ0r8mYkqVty"
      },
      "source": [
        "**TASK: Fit the model to the generator, let the EarlyStopping dictate the amount of epochs, so feel free to set the parameter high.**"
      ]
    },
    {
      "cell_type": "code",
      "metadata": {
        "colab": {
          "base_uri": "https://localhost:8080/"
        },
        "id": "wySe59PwqVtz",
        "outputId": "9937f46d-4273-4da7-ddaa-8a5e257a7076"
      },
      "source": [
        "# CODE HERE\r\n",
        "model.fit_generator(generator, epochs=20, validation_data=validation_generator, callbacks=[early_stop])"
      ],
      "execution_count": 40,
      "outputs": [
        {
          "output_type": "stream",
          "text": [
            "Epoch 1/20\n"
          ],
          "name": "stdout"
        },
        {
          "output_type": "stream",
          "text": [
            "/usr/local/lib/python3.7/dist-packages/tensorflow/python/keras/engine/training.py:1844: UserWarning: `Model.fit_generator` is deprecated and will be removed in a future version. Please use `Model.fit`, which supports generators.\n",
            "  warnings.warn('`Model.fit_generator` is deprecated and '\n"
          ],
          "name": "stderr"
        },
        {
          "output_type": "stream",
          "text": [
            "543/543 [==============================] - 5s 7ms/step - loss: 0.0353 - val_loss: 0.0014\n",
            "Epoch 2/20\n",
            "543/543 [==============================] - 3s 5ms/step - loss: 0.0046 - val_loss: 0.0030\n",
            "Epoch 3/20\n",
            "543/543 [==============================] - 3s 5ms/step - loss: 0.0040 - val_loss: 0.0024\n"
          ],
          "name": "stdout"
        },
        {
          "output_type": "execute_result",
          "data": {
            "text/plain": [
              "<tensorflow.python.keras.callbacks.History at 0x7fd4be14c9d0>"
            ]
          },
          "metadata": {
            "tags": []
          },
          "execution_count": 40
        }
      ]
    },
    {
      "cell_type": "code",
      "metadata": {
        "id": "rQWYZ-t3qVtz"
      },
      "source": [
        ""
      ],
      "execution_count": 40,
      "outputs": []
    },
    {
      "cell_type": "markdown",
      "metadata": {
        "id": "7CNa9Bj4qVt0"
      },
      "source": [
        "**TASK: Plot the history of the loss that occured during training.**"
      ]
    },
    {
      "cell_type": "code",
      "metadata": {
        "colab": {
          "base_uri": "https://localhost:8080/",
          "height": 282
        },
        "id": "yAgni_kDqVt0",
        "outputId": "6bb9a14b-00e8-4594-c659-e4c67163b9c7"
      },
      "source": [
        "# CODE HERE\r\n",
        "losses = pd.DataFrame(model.history.history)\r\n",
        "losses.plot()"
      ],
      "execution_count": 41,
      "outputs": [
        {
          "output_type": "execute_result",
          "data": {
            "text/plain": [
              "<matplotlib.axes._subplots.AxesSubplot at 0x7fd485b05b90>"
            ]
          },
          "metadata": {
            "tags": []
          },
          "execution_count": 41
        },
        {
          "output_type": "display_data",
          "data": {
            "image/png": "[encoded data removed]",
            "text/plain": [
              "<Figure size 432x288 with 1 Axes>"
            ]
          },
          "metadata": {
            "tags": [],
            "needs_background": "light"
          }
        }
      ]
    },
    {
      "cell_type": "code",
      "metadata": {
        "id": "srkECBCIqVt0"
      },
      "source": [
        ""
      ],
      "execution_count": 41,
      "outputs": []
    },
    {
      "cell_type": "markdown",
      "metadata": {
        "id": "FuYFBGO4qVt1"
      },
      "source": [
        "## Evaluate on Test Data\n",
        "\n",
        "**TASK: Forecast predictions for your test data range (the last 12 months of the entire dataset). Remember to inverse your scaling transformations. Your final result should be a DataFrame with two columns, the true test values and the predictions.**"
      ]
    },
    {
      "cell_type": "code",
      "metadata": {
        "id": "t6OqlIUBqVt1"
      },
      "source": [
        "# CODE HERE\r\n",
        "test_predictions = []\r\n",
        "first_eval_batch = scaled_train[-length:]\r\n",
        "current_batch = first_eval_batch.reshape(1, length, n_features)\r\n",
        "\r\n",
        "for i in range(len(test_df)):\r\n",
        "  # get prediction 1 time stamp ahead ([0] is for grabbing just the number ins)\r\n",
        "  current_pred = model.predict(current_batch)[0]\r\n",
        "  # Store prediction\r\n",
        "  test_predictions.append(current_pred)\r\n",
        "  # Update batch to now include prediction and drop first value\r\n",
        "  current_batch = np.append(current_batch[:, 1:, :], [[current_pred]], axis=1)"
      ],
      "execution_count": 42,
      "outputs": []
    },
    {
      "cell_type": "code",
      "metadata": {
        "id": "zxkWcUD3qVt1"
      },
      "source": [
        "true_predictions = scaler.inverse_transform(test_predictions)"
      ],
      "execution_count": 43,
      "outputs": []
    },
    {
      "cell_type": "code",
      "metadata": {
        "colab": {
          "base_uri": "https://localhost:8080/"
        },
        "id": "MLbS7QZuqVt1",
        "outputId": "b5c97e2e-da2f-4f57-aff9-4893d55942d5"
      },
      "source": [
        "test_df['Predictions'] = true_predictions"
      ],
      "execution_count": 44,
      "outputs": [
        {
          "output_type": "stream",
          "text": [
            "/usr/local/lib/python3.7/dist-packages/ipykernel_launcher.py:1: SettingWithCopyWarning: \n",
            "A value is trying to be set on a copy of a slice from a DataFrame.\n",
            "Try using .loc[row_indexer,col_indexer] = value instead\n",
            "\n",
            "See the caveats in the documentation: https://pandas.pydata.org/pandas-docs/stable/user_guide/indexing.html#returning-a-view-versus-a-copy\n",
            "  \"\"\"Entry point for launching an IPython kernel.\n"
          ],
          "name": "stderr"
        }
      ]
    },
    {
      "cell_type": "code",
      "metadata": {
        "colab": {
          "base_uri": "https://localhost:8080/",
          "height": 610
        },
        "id": "1Lm71ta-qVt1",
        "outputId": "26c835be-1ed0-469a-9f5f-3a59ffe56af3"
      },
      "source": [
        "test_df"
      ],
      "execution_count": 45,
      "outputs": [
        {
          "output_type": "execute_result",
          "data": {
            "text/html": [
              "<div>\n",
              "<style scoped>\n",
              "    .dataframe tbody tr th:only-of-type {\n",
              "        vertical-align: middle;\n",
              "    }\n",
              "\n",
              "    .dataframe tbody tr th {\n",
              "        vertical-align: top;\n",
              "    }\n",
              "\n",
              "    .dataframe thead th {\n",
              "        text-align: right;\n",
              "    }\n",
              "</style>\n",
              "<table border=\"1\" class=\"dataframe\">\n",
              "  <thead>\n",
              "    <tr style=\"text-align: right;\">\n",
              "      <th></th>\n",
              "      <th>Production</th>\n",
              "      <th>Predictions</th>\n",
              "    </tr>\n",
              "    <tr>\n",
              "      <th>DATE</th>\n",
              "      <th></th>\n",
              "      <th></th>\n",
              "    </tr>\n",
              "  </thead>\n",
              "  <tbody>\n",
              "    <tr>\n",
              "      <th>2018-04-01</th>\n",
              "      <td>112.4309</td>\n",
              "      <td>115.133422</td>\n",
              "    </tr>\n",
              "    <tr>\n",
              "      <th>2018-05-01</th>\n",
              "      <td>110.3544</td>\n",
              "      <td>121.289489</td>\n",
              "    </tr>\n",
              "    <tr>\n",
              "      <th>2018-06-01</th>\n",
              "      <td>124.5841</td>\n",
              "      <td>124.783516</td>\n",
              "    </tr>\n",
              "    <tr>\n",
              "      <th>2018-07-01</th>\n",
              "      <td>117.2215</td>\n",
              "      <td>121.998938</td>\n",
              "    </tr>\n",
              "    <tr>\n",
              "      <th>2018-08-01</th>\n",
              "      <td>112.6779</td>\n",
              "      <td>113.464969</td>\n",
              "    </tr>\n",
              "    <tr>\n",
              "      <th>2018-09-01</th>\n",
              "      <td>103.3118</td>\n",
              "      <td>99.394279</td>\n",
              "    </tr>\n",
              "    <tr>\n",
              "      <th>2018-10-01</th>\n",
              "      <td>92.1321</td>\n",
              "      <td>85.592444</td>\n",
              "    </tr>\n",
              "    <tr>\n",
              "      <th>2018-11-01</th>\n",
              "      <td>82.4347</td>\n",
              "      <td>75.987763</td>\n",
              "    </tr>\n",
              "    <tr>\n",
              "      <th>2018-12-01</th>\n",
              "      <td>76.7608</td>\n",
              "      <td>74.928785</td>\n",
              "    </tr>\n",
              "    <tr>\n",
              "      <th>2019-01-01</th>\n",
              "      <td>86.9988</td>\n",
              "      <td>80.736152</td>\n",
              "    </tr>\n",
              "    <tr>\n",
              "      <th>2019-02-01</th>\n",
              "      <td>98.1116</td>\n",
              "      <td>90.390062</td>\n",
              "    </tr>\n",
              "    <tr>\n",
              "      <th>2019-03-01</th>\n",
              "      <td>116.1718</td>\n",
              "      <td>100.856451</td>\n",
              "    </tr>\n",
              "    <tr>\n",
              "      <th>2019-04-01</th>\n",
              "      <td>114.9703</td>\n",
              "      <td>111.204675</td>\n",
              "    </tr>\n",
              "    <tr>\n",
              "      <th>2019-05-01</th>\n",
              "      <td>114.5613</td>\n",
              "      <td>119.597599</td>\n",
              "    </tr>\n",
              "    <tr>\n",
              "      <th>2019-06-01</th>\n",
              "      <td>124.9605</td>\n",
              "      <td>124.195465</td>\n",
              "    </tr>\n",
              "    <tr>\n",
              "      <th>2019-07-01</th>\n",
              "      <td>110.2632</td>\n",
              "      <td>123.025849</td>\n",
              "    </tr>\n",
              "    <tr>\n",
              "      <th>2019-08-01</th>\n",
              "      <td>102.6085</td>\n",
              "      <td>115.006463</td>\n",
              "    </tr>\n",
              "    <tr>\n",
              "      <th>2019-09-01</th>\n",
              "      <td>101.5866</td>\n",
              "      <td>101.073411</td>\n",
              "    </tr>\n",
              "  </tbody>\n",
              "</table>\n",
              "</div>"
            ],
            "text/plain": [
              "            Production  Predictions\n",
              "DATE                               \n",
              "2018-04-01    112.4309   115.133422\n",
              "2018-05-01    110.3544   121.289489\n",
              "2018-06-01    124.5841   124.783516\n",
              "2018-07-01    117.2215   121.998938\n",
              "2018-08-01    112.6779   113.464969\n",
              "2018-09-01    103.3118    99.394279\n",
              "2018-10-01     92.1321    85.592444\n",
              "2018-11-01     82.4347    75.987763\n",
              "2018-12-01     76.7608    74.928785\n",
              "2019-01-01     86.9988    80.736152\n",
              "2019-02-01     98.1116    90.390062\n",
              "2019-03-01    116.1718   100.856451\n",
              "2019-04-01    114.9703   111.204675\n",
              "2019-05-01    114.5613   119.597599\n",
              "2019-06-01    124.9605   124.195465\n",
              "2019-07-01    110.2632   123.025849\n",
              "2019-08-01    102.6085   115.006463\n",
              "2019-09-01    101.5866   101.073411"
            ]
          },
          "metadata": {
            "tags": []
          },
          "execution_count": 45
        }
      ]
    },
    {
      "cell_type": "code",
      "metadata": {
        "id": "ZORLbqYmqVt2"
      },
      "source": [
        ""
      ],
      "execution_count": 45,
      "outputs": []
    },
    {
      "cell_type": "markdown",
      "metadata": {
        "id": "e759xjawqVt2"
      },
      "source": [
        "**TASK: Plot your predictions versus the True test values. (Your plot may look different than ours).**"
      ]
    },
    {
      "cell_type": "code",
      "metadata": {
        "colab": {
          "base_uri": "https://localhost:8080/",
          "height": 514
        },
        "id": "995-KyuQqVt2",
        "outputId": "81f1d347-b804-4348-9708-5af4430c8bf3"
      },
      "source": [
        "# CODE HERE\r\n",
        "test_df.plot(figsize=(12,8))"
      ],
      "execution_count": 46,
      "outputs": [
        {
          "output_type": "execute_result",
          "data": {
            "text/plain": [
              "<matplotlib.axes._subplots.AxesSubplot at 0x7fd482435a90>"
            ]
          },
          "metadata": {
            "tags": []
          },
          "execution_count": 46
        },
        {
          "output_type": "display_data",
          "data": {
            "image/png": "[encoded data removed]",
            "text/plain": [
              "<Figure size 864x576 with 1 Axes>"
            ]
          },
          "metadata": {
            "tags": [],
            "needs_background": "light"
          }
        }
      ]
    },
    {
      "cell_type": "code",
      "metadata": {
        "id": "5rvEpa8_qVt2"
      },
      "source": [
        ""
      ],
      "execution_count": 46,
      "outputs": []
    },
    {
      "cell_type": "markdown",
      "metadata": {
        "id": "iF3jNMALqVt3"
      },
      "source": [
        "**TASK: Calculate your RMSE.**"
      ]
    },
    {
      "cell_type": "code",
      "metadata": {
        "id": "UOquMQXVqVt3"
      },
      "source": [
        "#CODE HERE\r\n",
        "from sklearn.metrics import mean_squared_error\r\n"
      ],
      "execution_count": 47,
      "outputs": []
    },
    {
      "cell_type": "code",
      "metadata": {
        "colab": {
          "base_uri": "https://localhost:8080/"
        },
        "id": "c6SLi3b1qVt3",
        "outputId": "831ab03c-444e-433f-d629-5bd2889be016"
      },
      "source": [
        "np.sqrt(mean_squared_error(test_df['Production'], test_df['Predictions']))"
      ],
      "execution_count": 48,
      "outputs": [
        {
          "output_type": "execute_result",
          "data": {
            "text/plain": [
              "7.2410355234056185"
            ]
          },
          "metadata": {
            "tags": []
          },
          "execution_count": 48
        }
      ]
    },
    {
      "cell_type": "markdown",
      "metadata": {
        "id": "E4QDuZQ7_Hv6"
      },
      "source": [
        "# Try to get root mean squared error as small as possible , 0 is best.\r\n",
        "+ Try to decrease the test set size, and give model LSTM more neurons (units size), and increase more patience (4)\r\n",
        "+ There are a lot more methods to use to improve your model. Then double check with RMSE"
      ]
    },
    {
      "cell_type": "code",
      "metadata": {
        "id": "i6XlclwcCA28"
      },
      "source": [
        ""
      ],
      "execution_count": 48,
      "outputs": []
    }
  ]
}