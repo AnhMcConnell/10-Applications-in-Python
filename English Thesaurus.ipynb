{
 "cells": [
  {
   "cell_type": "code",
   "execution_count": 1,
   "metadata": {},
   "outputs": [],
   "source": [
    "# In order to read the jason file, download json lib\n",
    "import json"
   ]
  },
  {
   "cell_type": "code",
   "execution_count": 2,
   "metadata": {},
   "outputs": [
    {
     "data": {
      "text/plain": [
       "dict"
      ]
     },
     "execution_count": 2,
     "metadata": {},
     "output_type": "execute_result"
    }
   ],
   "source": [
    "# I downloaded the file to my current directory\n",
    "file_path = open(\"data.json\", 'r')\n",
    "data = json.load(file_path)\n",
    "type(data)"
   ]
  },
  {
   "cell_type": "code",
   "execution_count": 3,
   "metadata": {},
   "outputs": [
    {
     "data": {
      "text/plain": [
       "['Precipitation in the form of liquid water drops with diameters greater than 0.5 millimetres.',\n",
       " 'To fall from the clouds in drops of water.']"
      ]
     },
     "execution_count": 3,
     "metadata": {},
     "output_type": "execute_result"
    }
   ],
   "source": [
    "data['rain']"
   ]
  },
  {
   "cell_type": "code",
   "execution_count": 17,
   "metadata": {},
   "outputs": [
    {
     "data": {
      "text/plain": [
       "['Precipitation in the form of liquid water drops with diameters greater than 0.5 millimetres.',\n",
       " 'To fall from the clouds in drops of water.']"
      ]
     },
     "execution_count": 17,
     "metadata": {},
     "output_type": "execute_result"
    }
   ],
   "source": [
    "get_word_definition(word)"
   ]
  },
  {
   "cell_type": "code",
   "execution_count": 18,
   "metadata": {},
   "outputs": [],
   "source": [
    "import difflib"
   ]
  },
  {
   "cell_type": "code",
   "execution_count": 19,
   "metadata": {},
   "outputs": [],
   "source": [
    "from difflib import SequenceMatcher"
   ]
  },
  {
   "cell_type": "code",
   "execution_count": 20,
   "metadata": {},
   "outputs": [],
   "source": [
    "# Get the close match with the word from difflib, you can read more about this on docs.python.org\n",
    "from difflib import get_close_matches"
   ]
  },
  {
   "cell_type": "code",
   "execution_count": 64,
   "metadata": {},
   "outputs": [
    {
     "name": "stdout",
     "output_type": "stream",
     "text": [
      "Enter word you are looking for: love\n",
      "An intense feeling of affection and care towards another person.\n"
     ]
    }
   ],
   "source": [
    "\n",
    "def get_word_definition(word):\n",
    "    word = word.lower()\n",
    "    if word in data:\n",
    "        return data[word][0]\n",
    "    elif len(get_close_matches(word, data.keys())) > 0:\n",
    "        answer = input((\"Did you mean %s instead? Yes or No: \") % get_close_matches(word, data.keys())[0])\n",
    "        if answer in [\"Yes\",'Y','y',\"yes\"]:\n",
    "            return data[get_close_matches(word, data.keys())[0]][0]\n",
    "        elif answer in [\"N\", 'n', 'no','NO']:\n",
    "            print(\"This word does not exist!\")\n",
    "        else:\n",
    "            print(\"We didn't understand your entry.\")\n",
    "    else:\n",
    "        return \"Invalid!\"\n",
    "word = input(\"Enter word you are looking for: \")\n",
    "\n",
    "print(get_word_definition(word))\n",
    "\n",
    "                                 "
   ]
  },
  {
   "cell_type": "code",
   "execution_count": 65,
   "metadata": {},
   "outputs": [
    {
     "name": "stdout",
     "output_type": "stream",
     "text": [
      "Enter word you are looking for: husband\n",
      "The male partner in a marriage.\n"
     ]
    }
   ],
   "source": [
    "def get_word_definition(word):\n",
    "    word = word.lower()\n",
    "    if word in data:\n",
    "        return data[word][0]\n",
    "    elif len(get_close_matches(word, data.keys())) > 0:\n",
    "        answer = input((\"Did you mean %s instead? Yes or No: \") % get_close_matches(word, data.keys())[0])\n",
    "        if answer in [\"Yes\",'Y','y',\"yes\"]:\n",
    "            return data[get_close_matches(word, data.keys())[0]][0]\n",
    "        elif answer in [\"N\", 'n', 'no','NO']:\n",
    "            print(\"This word does not exist!\")\n",
    "        else:\n",
    "            print(\"We didn't understand your entry.\")\n",
    "    else:\n",
    "        return \"Invalid!\"\n",
    "word = input(\"Enter word you are looking for: \")\n",
    "\n",
    "print(get_word_definition(word))\n",
    "\n",
    "                                 "
   ]
  },
  {
   "cell_type": "code",
   "execution_count": null,
   "metadata": {},
   "outputs": [],
   "source": []
  }
 ],
 "metadata": {
  "kernelspec": {
   "display_name": "Python 3",
   "language": "python",
   "name": "python3"
  },
  "language_info": {
   "codemirror_mode": {
    "name": "ipython",
    "version": 3
   },
   "file_extension": ".py",
   "mimetype": "text/x-python",
   "name": "python",
   "nbconvert_exporter": "python",
   "pygments_lexer": "ipython3",
   "version": "3.7.4"
  }
 },
 "nbformat": 4,
 "nbformat_minor": 2
}
